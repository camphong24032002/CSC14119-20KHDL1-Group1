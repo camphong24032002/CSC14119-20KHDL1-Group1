{
 "cells": [
  {
   "cell_type": "markdown",
   "metadata": {},
   "source": [
    "# <center><b>Data Claiming</b></center>"
   ]
  },
  {
   "cell_type": "markdown",
   "metadata": {},
   "source": [
    "<h2>Preparation</h2>"
   ]
  },
  {
   "cell_type": "code",
   "execution_count": 1,
   "metadata": {},
   "outputs": [],
   "source": [
    "# include libraries\n",
    "from requests_html import HTMLSession\n",
    "from bs4 import BeautifulSoup\n",
    "from datetime import datetime, timedelta\n",
    "import urllib.robotparser\n",
    "import re\n",
    "import requests\n",
    "import requests_cache\n",
    "import time, json\n",
    "import pandas as pd\n",
    "import time\n",
    "from selenium import webdriver\n",
    "from selenium.webdriver.common.keys import Keys\n",
    "from selenium.webdriver.common.by import By\n",
    "from selenium.common.exceptions import TimeoutException\n",
    "from selenium.webdriver.support.ui import WebDriverWait\n",
    "from selenium.webdriver.support import expected_conditions as EC\n",
    "\n",
    "# target link\n",
    "anchor_user = \"one direction\"\n",
    "target_web_link = 'https://soundcloud.com'\n",
    "test_cache_web_link1 = 'https://raw.githubusercontent.com/KienTrann/requests-cache-testing/main/should_be_cached.txt'\n",
    "test_cache_web_link2 = 'https://raw.githubusercontent.com/KienTrann/requests-cache-testing/main/should_not_be_cached.txt'\n",
    "chrome_driver_binary = \"D:\\Sequence\\Comp-Suppoter\\Chrome\\chromedriver\""
   ]
  },
  {
   "cell_type": "code",
   "execution_count": 2,
   "metadata": {},
   "outputs": [
    {
     "name": "stdout",
     "output_type": "stream",
     "text": [
      "Tag's HTML string: <a class=\"menu-a\" href=\"#\">About</a>\n",
      "Tag's text string: About\n",
      "Attributes dictionary tag: {'class': ('menu-a',), 'href': '#'}\n"
     ]
    }
   ],
   "source": [
    "# get the website source\n",
    "session = HTMLSession()\n",
    "source = session.get('https://thinhsuy.github.io/VisualPage/#')\n",
    "tag = source.html.find('.menu-a', first=True)\n",
    "print(f\"Tag's HTML string: {tag.html}\")\n",
    "print(f\"Tag's text string: {tag.text}\")\n",
    "print(f\"Attributes dictionary tag: {tag.attrs}\")"
   ]
  },
  {
   "cell_type": "code",
   "execution_count": 3,
   "metadata": {},
   "outputs": [
    {
     "data": {
      "text/plain": [
       "True"
      ]
     },
     "execution_count": 3,
     "metadata": {},
     "output_type": "execute_result"
    }
   ],
   "source": [
    "# check the robot.txt of website\n",
    "rp = urllib.robotparser.RobotFileParser()\n",
    "rp.set_url(target_web_link+'/robots.txt')\n",
    "rp.read()\n",
    "rp.can_fetch('*', target_web_link)"
   ]
  },
  {
   "cell_type": "code",
   "execution_count": 4,
   "metadata": {},
   "outputs": [
    {
     "data": {
      "text/plain": [
       "['About']"
      ]
     },
     "execution_count": 4,
     "metadata": {},
     "output_type": "execute_result"
    }
   ],
   "source": [
    "# Regular Expression\n",
    "re.findall(r'\\w{5}', tag.text)"
   ]
  },
  {
   "cell_type": "code",
   "execution_count": 5,
   "metadata": {},
   "outputs": [
    {
     "name": "stdout",
     "output_type": "stream",
     "text": [
      "Not running .render() in Jupyter! Run it in powershell file.py instead\n"
     ]
    }
   ],
   "source": [
    "# Working with dynamic webpage\n",
    "session = HTMLSession()\n",
    "source = session.get(target_web_link)\n",
    "try: source.html.render()\n",
    "except: print('Not running .render() in Jupyter! Run it in powershell file.py instead')"
   ]
  },
  {
   "cell_type": "markdown",
   "metadata": {},
   "source": [
    "<h2>Hand on crawling data</h2>"
   ]
  },
  {
   "cell_type": "code",
   "execution_count": 6,
   "metadata": {},
   "outputs": [
    {
     "name": "stdout",
     "output_type": "stream",
     "text": [
      "Test from link 1: \n",
      "abc\n",
      "xyz\n",
      "\"incomplete_results\":false\n",
      "\n",
      "Test from link 2: \n",
      "abc\n",
      "xyz\n",
      "\"incomplete_results\":true\n",
      "\n"
     ]
    }
   ],
   "source": [
    "# Limit the total step that the request would crawl down data\n",
    "def check_filter(response: requests.models.Response)->bool:\n",
    "    return True if '\"incomplete_result\":true' in response.text else False\n",
    "\n",
    "requests_cache.install_cache(\"my_cache\", filter_fn=check_filter)\n",
    "\n",
    "# Request function\n",
    "sleep_time = 1\n",
    "def get_request(url):\n",
    "    r = requests.get(url)\n",
    "    while not(r.ok):\n",
    "        time.sleep(sleep_time)\n",
    "        r = requests.get(url)\n",
    "    return r\n",
    "\n",
    "# Testing\n",
    "print(f\"Test from link 1: \\n{get_request(test_cache_web_link1).text}\")\n",
    "print(f\"Test from link 2: \\n{get_request(test_cache_web_link2).text}\")"
   ]
  },
  {
   "cell_type": "code",
   "execution_count": 7,
   "metadata": {},
   "outputs": [],
   "source": [
    "def OpenWebBrowser(driver, link, by=By.ID, id_coockie_trust=\"none\", delay_element_loading=10):\n",
    "    time.sleep(sleep_time)\n",
    "    driver.get(link)\n",
    "    if id_coockie_trust==\"none\": return True\n",
    "    try:\n",
    "        WebDriverWait(driver, delay_element_loading).until(\n",
    "            EC.presence_of_element_located(\n",
    "                (by, id_coockie_trust)\n",
    "            ))\n",
    "    except TimeoutException: \n",
    "        print(\"Runtime out\")\n",
    "        return False\n",
    "    time.sleep(sleep_time)\n",
    "    driver.find_element(by, id_coockie_trust).click()\n",
    "    return True\n",
    "\n",
    "def ScrollScreen(driver, epochs=1, time_sleep=0.5):\n",
    "    for _ in range(epochs):\n",
    "        time.sleep(time_sleep)\n",
    "        driver.execute_script(\"window.scrollTo(0, document.body.scrollHeight);\")"
   ]
  },
  {
   "cell_type": "code",
   "execution_count": 34,
   "metadata": {},
   "outputs": [],
   "source": [
    "def GetRelatedUsers(driver):\n",
    "    def GetUserInforFromMainPage(page_url):\n",
    "        driver.get(page_url)\n",
    "        time.sleep(sleep_time)\n",
    "        stats_value = driver.find_elements(By.CLASS_NAME, \"infoStats__value\")\n",
    "        time.sleep(sleep_time)\n",
    "        values = [0,0,0]\n",
    "        for i in range(3):\n",
    "            try: values[i] = stats_value[i].text\n",
    "            except: break\n",
    "        time.sleep(sleep_time)\n",
    "        lasts_value = driver.find_elements(By.CLASS_NAME,'sc-visuallyhidden')\n",
    "        time.sleep(sleep_time)\n",
    "        df_dic = {'Followers': values[0], 'Following': values[1], 'Tracks': values[2]}\n",
    "        for i in range(2):\n",
    "            try: values[i] = lasts_value[i].text\n",
    "            except: values[i] = 0\n",
    "        df_dic['Last_action'] = values[0]\n",
    "        df_dic['Last_track_played'] = values[1]\n",
    "        return df_dic \n",
    "\n",
    "    headers = [\"Name\", \"Followers\", \"Following\", \"Tracks\", \"Last_action\", \"Last_track_played\"]\n",
    "    user_df = pd.DataFrame(columns=headers)\n",
    "    user_urls = driver.find_elements(By.CSS_SELECTOR, \".sc-link-dark.sc-link-primary\")\n",
    "    time.sleep(0.5)\n",
    "    chosen_url = [value.get_attribute('href') for value in user_urls if value.get_attribute('href').count('/')<=3][0]\n",
    "    user_dict = GetUserInforFromMainPage(chosen_url)\n",
    "    user_dict['Name'] = anchor_user\n",
    "    user_df = user_df.append(user_dict, ignore_index=True)\n",
    "    return user_df"
   ]
  },
  {
   "cell_type": "code",
   "execution_count": 35,
   "metadata": {},
   "outputs": [
    {
     "name": "stderr",
     "output_type": "stream",
     "text": [
      "C:\\Users\\Thinh Nguyen\\AppData\\Local\\Temp\\ipykernel_10260\\4001606070.py:29: FutureWarning: The frame.append method is deprecated and will be removed from pandas in a future version. Use pandas.concat instead.\n",
      "  user_df = user_df.append(user_dict, ignore_index=True)\n"
     ]
    },
    {
     "data": {
      "text/html": [
       "<div>\n",
       "<style scoped>\n",
       "    .dataframe tbody tr th:only-of-type {\n",
       "        vertical-align: middle;\n",
       "    }\n",
       "\n",
       "    .dataframe tbody tr th {\n",
       "        vertical-align: top;\n",
       "    }\n",
       "\n",
       "    .dataframe thead th {\n",
       "        text-align: right;\n",
       "    }\n",
       "</style>\n",
       "<table border=\"1\" class=\"dataframe\">\n",
       "  <thead>\n",
       "    <tr style=\"text-align: right;\">\n",
       "      <th></th>\n",
       "      <th>Name</th>\n",
       "      <th>Followers</th>\n",
       "      <th>Following</th>\n",
       "      <th>Tracks</th>\n",
       "      <th>Last_action</th>\n",
       "      <th>Last_track_played</th>\n",
       "    </tr>\n",
       "  </thead>\n",
       "  <tbody>\n",
       "    <tr>\n",
       "      <th>0</th>\n",
       "      <td>one direction</td>\n",
       "      <td>3.01M</td>\n",
       "      <td>0</td>\n",
       "      <td>129</td>\n",
       "      <td>Posted 7 years ago</td>\n",
       "      <td>2,214,463 plays</td>\n",
       "    </tr>\n",
       "  </tbody>\n",
       "</table>\n",
       "</div>"
      ],
      "text/plain": [
       "            Name Followers Following Tracks         Last_action  \\\n",
       "0  one direction     3.01M         0    129  Posted 7 years ago   \n",
       "\n",
       "  Last_track_played  \n",
       "0   2,214,463 plays  "
      ]
     },
     "execution_count": 35,
     "metadata": {},
     "output_type": "execute_result"
    }
   ],
   "source": [
    "driver = webdriver.Chrome()\n",
    "url = target_web_link + '/search/people?q=' + anchor_user\n",
    "if (OpenWebBrowser(driver, url, id_coockie_trust=\"onetrust-accept-btn-handler\")):\n",
    "    #ScrollScreen(driver, epochs=1)\n",
    "    df = GetRelatedUsers(driver)\n",
    "driver.close()\n",
    "df"
   ]
  }
 ],
 "metadata": {
  "kernelspec": {
   "display_name": "Python 3.10.2 64-bit",
   "language": "python",
   "name": "python3"
  },
  "language_info": {
   "codemirror_mode": {
    "name": "ipython",
    "version": 3
   },
   "file_extension": ".py",
   "mimetype": "text/x-python",
   "name": "python",
   "nbconvert_exporter": "python",
   "pygments_lexer": "ipython3",
   "version": "3.10.2"
  },
  "orig_nbformat": 4,
  "vscode": {
   "interpreter": {
    "hash": "92ea70cb9331c87a6e87e6ba829f55a3cff66e051583a0c31932cac77bd3dc7a"
   }
  }
 },
 "nbformat": 4,
 "nbformat_minor": 2
}
