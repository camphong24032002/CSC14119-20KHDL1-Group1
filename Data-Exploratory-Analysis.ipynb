{
 "cells": [
  {
   "cell_type": "markdown",
   "id": "e273ce2e",
   "metadata": {},
   "source": [
    "## PROJECT TITLE: EXPLORATORY DATA ANALYSIS"
   ]
  },
  {
   "cell_type": "markdown",
   "id": "ec0f8258",
   "metadata": {},
   "source": [
    "|ID   |Name   |Resposible for|% contribution|\n",
    "|---|---|---|---|\n",
    "|20127094   |Nguyễn Minh Văn|   |   |\n",
    "|20127247   |Phan Xuân Nam   |Data Pre-processing   |100%   |\n",
    "|20127333   |Nguyễn Duy Thịnh   |Data Crawling   |100%   |\n",
    "|20127380   |Dương Minh Tùng   |   |   |\n",
    "|20127406   |Thái Cẩm Phong   |Data Crawling   |100%   |"
   ]
  },
  {
   "cell_type": "markdown",
   "id": "3c7cfe83",
   "metadata": {},
   "source": [
    "### Step 1: Collecting data"
   ]
  },
  {
   "cell_type": "markdown",
   "id": "39c098b1",
   "metadata": {},
   "source": [
    "### Step 2: Pre-processing data"
   ]
  },
  {
   "cell_type": "markdown",
   "id": "19ceb435",
   "metadata": {},
   "source": [
    "### Step 2.1: Importing important libraries"
   ]
  },
  {
   "cell_type": "code",
   "execution_count": 1,
   "id": "87cd5a73",
   "metadata": {},
   "outputs": [],
   "source": [
    "import pandas as pd\n",
    "import numpy as np\n",
    "import matplotlib.pyplot as plt\n",
    "import copy\n",
    "pd.set_option('display.float_format', lambda x: '%.5f' % x)"
   ]
  },
  {
   "cell_type": "markdown",
   "id": "7b78e486",
   "metadata": {},
   "source": [
    "### Step 2.2: Importing datasets\n",
    "There are 3 files: \"playlists.csv\", \"tracks.csv\", \"users.csv\""
   ]
  },
  {
   "cell_type": "code",
   "execution_count": 2,
   "id": "278c0e32",
   "metadata": {},
   "outputs": [],
   "source": [
    "playlists_df = pd.read_csv(\"playlists.csv\")\n",
    "tracks_df = pd.read_csv(\"tracks.csv\")\n",
    "users_df = pd.read_csv(\"users.csv\")"
   ]
  },
  {
   "cell_type": "code",
   "execution_count": 3,
   "id": "157bee36",
   "metadata": {},
   "outputs": [
    {
     "name": "stdout",
     "output_type": "stream",
     "text": [
      "Index(['Unnamed: 0', 'id', 'title', 'author', 'tracks', 'likes', 'reposts',\n",
      "       'release'],\n",
      "      dtype='object')\n",
      "Index(['Unnamed: 0', 'id', 'title', 'author', 'plays', 'likes', 'reposts',\n",
      "       'release'],\n",
      "      dtype='object')\n",
      "Index(['Unnamed: 0', 'id', 'name', 'followers', 'following', 'tracks'], dtype='object')\n"
     ]
    }
   ],
   "source": [
    "print(playlists_df.keys())\n",
    "print(tracks_df.keys())\n",
    "print(users_df.keys())"
   ]
  },
  {
   "cell_type": "markdown",
   "id": "9aa4ca51",
   "metadata": {},
   "source": [
    "Hmmmm, there is an extra column called \"Unnamed: 0\". Let's remove that for all 3 dataframes"
   ]
  },
  {
   "cell_type": "code",
   "execution_count": 4,
   "id": "815f64b9",
   "metadata": {},
   "outputs": [],
   "source": [
    "tracks_df.drop(columns='Unnamed: 0', inplace=True)\n",
    "users_df.drop(columns='Unnamed: 0', inplace=True)\n",
    "playlists_df.drop(columns='Unnamed: 0', inplace=True)"
   ]
  },
  {
   "cell_type": "code",
   "execution_count": 5,
   "id": "89b84ea4",
   "metadata": {},
   "outputs": [
    {
     "data": {
      "text/html": [
       "<div>\n",
       "<style scoped>\n",
       "    .dataframe tbody tr th:only-of-type {\n",
       "        vertical-align: middle;\n",
       "    }\n",
       "\n",
       "    .dataframe tbody tr th {\n",
       "        vertical-align: top;\n",
       "    }\n",
       "\n",
       "    .dataframe thead th {\n",
       "        text-align: right;\n",
       "    }\n",
       "</style>\n",
       "<table border=\"1\" class=\"dataframe\">\n",
       "  <thead>\n",
       "    <tr style=\"text-align: right;\">\n",
       "      <th></th>\n",
       "      <th>id</th>\n",
       "      <th>name</th>\n",
       "      <th>followers</th>\n",
       "      <th>following</th>\n",
       "      <th>tracks</th>\n",
       "    </tr>\n",
       "  </thead>\n",
       "  <tbody>\n",
       "    <tr>\n",
       "      <th>0</th>\n",
       "      <td>1</td>\n",
       "      <td>TMN Playlisted</td>\n",
       "      <td>21.6K</td>\n",
       "      <td>116</td>\n",
       "      <td>2</td>\n",
       "    </tr>\n",
       "    <tr>\n",
       "      <th>1</th>\n",
       "      <td>2</td>\n",
       "      <td>nymano</td>\n",
       "      <td>69.1K</td>\n",
       "      <td>512</td>\n",
       "      <td>79</td>\n",
       "    </tr>\n",
       "    <tr>\n",
       "      <th>2</th>\n",
       "      <td>3</td>\n",
       "      <td>Agami</td>\n",
       "      <td>14.7K</td>\n",
       "      <td>598</td>\n",
       "      <td>1</td>\n",
       "    </tr>\n",
       "    <tr>\n",
       "      <th>3</th>\n",
       "      <td>4</td>\n",
       "      <td>Levi Patel</td>\n",
       "      <td>14.7K</td>\n",
       "      <td>433</td>\n",
       "      <td>19</td>\n",
       "    </tr>\n",
       "    <tr>\n",
       "      <th>4</th>\n",
       "      <td>5</td>\n",
       "      <td>Alice Baldwin</td>\n",
       "      <td>4,680</td>\n",
       "      <td>117</td>\n",
       "      <td>18</td>\n",
       "    </tr>\n",
       "  </tbody>\n",
       "</table>\n",
       "</div>"
      ],
      "text/plain": [
       "   id            name followers following tracks\n",
       "0   1  TMN Playlisted     21.6K       116      2\n",
       "1   2          nymano     69.1K       512     79\n",
       "2   3           Agami     14.7K       598      1\n",
       "3   4      Levi Patel     14.7K       433     19\n",
       "4   5   Alice Baldwin     4,680       117     18"
      ]
     },
     "execution_count": 5,
     "metadata": {},
     "output_type": "execute_result"
    }
   ],
   "source": [
    "users_df.head()"
   ]
  },
  {
   "cell_type": "markdown",
   "id": "d5e01d53",
   "metadata": {},
   "source": [
    "Seems good, let the pre-processing begin!"
   ]
  },
  {
   "cell_type": "markdown",
   "id": "f35c4a89",
   "metadata": {},
   "source": [
    "### Step 2.3: Pre-processing\n",
    "These are methods that we will use for data pre-processing of each dataframe:\n",
    "- Check for meaning of each column\n",
    "- Check the number of columns and rows \n",
    "- Check for duplicated rows\n",
    "- Check for missing data\n",
    "- Check for the min/max values, mean \n",
    "- Check for the data type of each column and modify values (if needed)"
   ]
  },
  {
   "cell_type": "markdown",
   "id": "a43ab62d",
   "metadata": {},
   "source": [
    "Let's start with the \"users\" dataframe. We check for the first 5 rows of it. "
   ]
  },
  {
   "cell_type": "code",
   "execution_count": 6,
   "id": "752b38c8",
   "metadata": {
    "scrolled": false
   },
   "outputs": [
    {
     "data": {
      "text/html": [
       "<div>\n",
       "<style scoped>\n",
       "    .dataframe tbody tr th:only-of-type {\n",
       "        vertical-align: middle;\n",
       "    }\n",
       "\n",
       "    .dataframe tbody tr th {\n",
       "        vertical-align: top;\n",
       "    }\n",
       "\n",
       "    .dataframe thead th {\n",
       "        text-align: right;\n",
       "    }\n",
       "</style>\n",
       "<table border=\"1\" class=\"dataframe\">\n",
       "  <thead>\n",
       "    <tr style=\"text-align: right;\">\n",
       "      <th></th>\n",
       "      <th>id</th>\n",
       "      <th>name</th>\n",
       "      <th>followers</th>\n",
       "      <th>following</th>\n",
       "      <th>tracks</th>\n",
       "    </tr>\n",
       "  </thead>\n",
       "  <tbody>\n",
       "    <tr>\n",
       "      <th>0</th>\n",
       "      <td>1</td>\n",
       "      <td>TMN Playlisted</td>\n",
       "      <td>21.6K</td>\n",
       "      <td>116</td>\n",
       "      <td>2</td>\n",
       "    </tr>\n",
       "    <tr>\n",
       "      <th>1</th>\n",
       "      <td>2</td>\n",
       "      <td>nymano</td>\n",
       "      <td>69.1K</td>\n",
       "      <td>512</td>\n",
       "      <td>79</td>\n",
       "    </tr>\n",
       "    <tr>\n",
       "      <th>2</th>\n",
       "      <td>3</td>\n",
       "      <td>Agami</td>\n",
       "      <td>14.7K</td>\n",
       "      <td>598</td>\n",
       "      <td>1</td>\n",
       "    </tr>\n",
       "    <tr>\n",
       "      <th>3</th>\n",
       "      <td>4</td>\n",
       "      <td>Levi Patel</td>\n",
       "      <td>14.7K</td>\n",
       "      <td>433</td>\n",
       "      <td>19</td>\n",
       "    </tr>\n",
       "    <tr>\n",
       "      <th>4</th>\n",
       "      <td>5</td>\n",
       "      <td>Alice Baldwin</td>\n",
       "      <td>4,680</td>\n",
       "      <td>117</td>\n",
       "      <td>18</td>\n",
       "    </tr>\n",
       "  </tbody>\n",
       "</table>\n",
       "</div>"
      ],
      "text/plain": [
       "   id            name followers following tracks\n",
       "0   1  TMN Playlisted     21.6K       116      2\n",
       "1   2          nymano     69.1K       512     79\n",
       "2   3           Agami     14.7K       598      1\n",
       "3   4      Levi Patel     14.7K       433     19\n",
       "4   5   Alice Baldwin     4,680       117     18"
      ]
     },
     "execution_count": 6,
     "metadata": {},
     "output_type": "execute_result"
    }
   ],
   "source": [
    "users_df.head()"
   ]
  },
  {
   "cell_type": "markdown",
   "id": "27b6e405",
   "metadata": {},
   "source": [
    "The meaning of each column is:\n",
    "+ id: the id of the user (categorical)\n",
    "+ name: the username of the user (categorical)\n",
    "+ followers: number of followers (numeric)\n",
    "+ following: number of people that a user follows (numeric)\n",
    "+ tracks: the number of tracks (numeric)\n",
    "\n",
    "The name \"tracks\" is quite ambiguous, let's rename it so it's clearer to understand"
   ]
  },
  {
   "cell_type": "code",
   "execution_count": 7,
   "id": "64c9440c",
   "metadata": {},
   "outputs": [],
   "source": [
    "users_df.rename(columns={\"tracks\": \"NumTracks\"}, inplace=True)"
   ]
  },
  {
   "cell_type": "markdown",
   "id": "1c1c4ec1",
   "metadata": {},
   "source": [
    "We check for any duplicated rows in the dataframe"
   ]
  },
  {
   "cell_type": "code",
   "execution_count": 8,
   "id": "894df2fb",
   "metadata": {},
   "outputs": [
    {
     "name": "stdout",
     "output_type": "stream",
     "text": [
      "There are duplicated rows\n"
     ]
    }
   ],
   "source": [
    "check_user_dup = users_df.duplicated().any()\n",
    "if check_user_dup:\n",
    "    print(\"There are duplicated rows\")\n",
    "else:\n",
    "    print(\"There is no duplicated rows\")"
   ]
  },
  {
   "cell_type": "markdown",
   "id": "ae0113e4",
   "metadata": {},
   "source": [
    "Wow, there are duplicated rows. We have to make each row unique and remove duplicated ones"
   ]
  },
  {
   "cell_type": "code",
   "execution_count": 9,
   "id": "40451f02",
   "metadata": {},
   "outputs": [],
   "source": [
    "users_df.drop_duplicates(inplace=True)"
   ]
  },
  {
   "cell_type": "markdown",
   "id": "5ead4bb4",
   "metadata": {},
   "source": [
    "After removing duplicated values, we check for the number of rows and columns"
   ]
  },
  {
   "cell_type": "code",
   "execution_count": 10,
   "id": "98660b18",
   "metadata": {},
   "outputs": [
    {
     "name": "stdout",
     "output_type": "stream",
     "text": [
      "Number of rows: 2895\n",
      "Number of columns: 5\n"
     ]
    }
   ],
   "source": [
    "print(\"Number of rows: \"+str(users_df.shape[0]))\n",
    "print(\"Number of columns: \"+str(users_df.shape[1]))"
   ]
  },
  {
   "cell_type": "markdown",
   "id": "39da8ffd",
   "metadata": {},
   "source": [
    "We check if there are any missing data in the dataframe"
   ]
  },
  {
   "cell_type": "code",
   "execution_count": 11,
   "id": "e3aea071",
   "metadata": {},
   "outputs": [
    {
     "data": {
      "text/plain": [
       "id          0.00000\n",
       "name        0.13817\n",
       "followers   0.24180\n",
       "following   0.27634\n",
       "NumTracks   0.27634\n",
       "dtype: float64"
      ]
     },
     "execution_count": 11,
     "metadata": {},
     "output_type": "execute_result"
    }
   ],
   "source": [
    "col_users_key = list(users_df.keys())\n",
    "percent_missing = users_df[col_users_key].isnull().sum() * 100 / len(users_df)\n",
    "percent_missing"
   ]
  },
  {
   "cell_type": "markdown",
   "id": "4001aff5",
   "metadata": {},
   "source": [
    "Since there are very small number of rows that exist \"null\" values, we can drop them "
   ]
  },
  {
   "cell_type": "code",
   "execution_count": 12,
   "id": "eda3aeb7",
   "metadata": {},
   "outputs": [
    {
     "name": "stdout",
     "output_type": "stream",
     "text": [
      "Number of rows: 2886\n",
      "Number of columns: 5\n"
     ]
    }
   ],
   "source": [
    "users_df.dropna(inplace=True)\n",
    "print(\"Number of rows: \"+str(users_df.shape[0]))\n",
    "print(\"Number of columns: \"+str(users_df.shape[1]))"
   ]
  },
  {
   "cell_type": "markdown",
   "id": "87018562",
   "metadata": {},
   "source": [
    "Next, we see what the data type of each column"
   ]
  },
  {
   "cell_type": "code",
   "execution_count": 13,
   "id": "b26a1017",
   "metadata": {},
   "outputs": [
    {
     "data": {
      "text/plain": [
       "id            int64\n",
       "name         object\n",
       "followers    object\n",
       "following    object\n",
       "NumTracks    object\n",
       "dtype: object"
      ]
     },
     "execution_count": 13,
     "metadata": {},
     "output_type": "execute_result"
    }
   ],
   "source": [
    "users_df.dtypes"
   ]
  },
  {
   "cell_type": "markdown",
   "id": "fbcea7ba",
   "metadata": {},
   "source": [
    "We find that the number of followers, following and num tracks are not in the correct type, it should be in \"int\" type"
   ]
  },
  {
   "cell_type": "code",
   "execution_count": 14,
   "id": "e966044e",
   "metadata": {},
   "outputs": [],
   "source": [
    "def change_number(s):\n",
    "    to_change = list(set(s))\n",
    "    change = []\n",
    "    for item in to_change:\n",
    "        temp = item\n",
    "        if (\"K\" in item) and (\".\" not in item): \n",
    "            temp = item.replace(\"K\", \"000\")\n",
    "        elif (\"K\" in item) and (\".\" in item): \n",
    "            temp = item.replace(\"K\", \"00\").replace(\".\", \"\")\n",
    "        elif (\"M\" in item) and (\".\" not in item): \n",
    "            temp = item.replace(\"M\", \"000000\")\n",
    "        elif (\"M\" in item) and (\".\" in item) and (len(temp)==4): \n",
    "            temp = item.replace(\"M\", \"00000\").replace(\".\", \"\")\n",
    "        elif (\"M\" in item) and (\".\" in item) and (len(temp)==5): \n",
    "            temp = item.replace(\"M\", \"0000\").replace(\".\", \"\")\n",
    "        elif (\",\" in item):\n",
    "            temp = item.replace(\",\", \"\")\n",
    "        change.append(temp)\n",
    "    return to_change, change"
   ]
  },
  {
   "cell_type": "code",
   "execution_count": 15,
   "id": "862213bb",
   "metadata": {},
   "outputs": [],
   "source": [
    "# users_df['followers'] = users_df['followers'].str.replace(',','')\n",
    "# user_to_change, user_change = change_number(users_df['followers'])\n",
    "# users_df['NumTracks'] = users_df['NumTracks'].replace(['12.1K'], '12100')\n",
    "# users_df['NumTracks'] = users_df['NumTracks'].str.replace(',','')\n",
    "# users_df[\"NumTracks\"] = users_df['NumTracks'].astype(int)\n",
    "# users_df['followers'] = users_df['followers'].replace(user_to_change, user_change)\n",
    "# users_df['followers'] = users_df['followers'].astype(int)\n",
    "# users_df['following'] = users_df['following'].str.replace(',','')\n",
    "# users_df['following'] = users_df['following'].astype(int)"
   ]
  },
  {
   "cell_type": "code",
   "execution_count": 16,
   "id": "834b00bd",
   "metadata": {},
   "outputs": [],
   "source": [
    "num_track_to_change, num_track_change = change_number(users_df['NumTracks'])\n",
    "users_df['NumTracks'] = users_df['NumTracks'].replace(num_track_to_change, num_track_change)\n",
    "follower_to_change, follower_change = change_number(users_df['followers'])\n",
    "users_df['followers'] = users_df['followers'].replace(follower_to_change, follower_change)\n",
    "following_to_change, following_change = change_number(users_df['following'])\n",
    "users_df['following'] = users_df['following'].replace(following_to_change, following_change)\n",
    "\n",
    "users_df[\"NumTracks\"] = users_df['NumTracks'].astype(int)\n",
    "users_df['followers'] = users_df['followers'].astype(int)\n",
    "users_df['following'] = users_df['following'].astype(int)"
   ]
  },
  {
   "cell_type": "markdown",
   "id": "ff011c1d",
   "metadata": {},
   "source": [
    "Let's have a look at how the data distribute"
   ]
  },
  {
   "cell_type": "code",
   "execution_count": 17,
   "id": "e5a802ec",
   "metadata": {},
   "outputs": [
    {
     "data": {
      "text/html": [
       "<div>\n",
       "<style scoped>\n",
       "    .dataframe tbody tr th:only-of-type {\n",
       "        vertical-align: middle;\n",
       "    }\n",
       "\n",
       "    .dataframe tbody tr th {\n",
       "        vertical-align: top;\n",
       "    }\n",
       "\n",
       "    .dataframe thead th {\n",
       "        text-align: right;\n",
       "    }\n",
       "</style>\n",
       "<table border=\"1\" class=\"dataframe\">\n",
       "  <thead>\n",
       "    <tr style=\"text-align: right;\">\n",
       "      <th></th>\n",
       "      <th>followers</th>\n",
       "      <th>following</th>\n",
       "      <th>NumTracks</th>\n",
       "    </tr>\n",
       "  </thead>\n",
       "  <tbody>\n",
       "    <tr>\n",
       "      <th>count</th>\n",
       "      <td>2886.00000</td>\n",
       "      <td>2886.00000</td>\n",
       "      <td>2886.00000</td>\n",
       "    </tr>\n",
       "    <tr>\n",
       "      <th>mean</th>\n",
       "      <td>178472.59459</td>\n",
       "      <td>130.61296</td>\n",
       "      <td>97.39744</td>\n",
       "    </tr>\n",
       "    <tr>\n",
       "      <th>std</th>\n",
       "      <td>810164.81229</td>\n",
       "      <td>310.78059</td>\n",
       "      <td>444.55766</td>\n",
       "    </tr>\n",
       "    <tr>\n",
       "      <th>min</th>\n",
       "      <td>0.00000</td>\n",
       "      <td>0.00000</td>\n",
       "      <td>0.00000</td>\n",
       "    </tr>\n",
       "    <tr>\n",
       "      <th>25%</th>\n",
       "      <td>174.50000</td>\n",
       "      <td>1.00000</td>\n",
       "      <td>0.00000</td>\n",
       "    </tr>\n",
       "    <tr>\n",
       "      <th>50%</th>\n",
       "      <td>2549.00000</td>\n",
       "      <td>15.00000</td>\n",
       "      <td>13.00000</td>\n",
       "    </tr>\n",
       "    <tr>\n",
       "      <th>75%</th>\n",
       "      <td>13300.00000</td>\n",
       "      <td>94.75000</td>\n",
       "      <td>50.00000</td>\n",
       "    </tr>\n",
       "    <tr>\n",
       "      <th>max</th>\n",
       "      <td>9510000.00000</td>\n",
       "      <td>2027.00000</td>\n",
       "      <td>12100.00000</td>\n",
       "    </tr>\n",
       "  </tbody>\n",
       "</table>\n",
       "</div>"
      ],
      "text/plain": [
       "          followers  following   NumTracks\n",
       "count    2886.00000 2886.00000  2886.00000\n",
       "mean   178472.59459  130.61296    97.39744\n",
       "std    810164.81229  310.78059   444.55766\n",
       "min         0.00000    0.00000     0.00000\n",
       "25%       174.50000    1.00000     0.00000\n",
       "50%      2549.00000   15.00000    13.00000\n",
       "75%     13300.00000   94.75000    50.00000\n",
       "max   9510000.00000 2027.00000 12100.00000"
      ]
     },
     "execution_count": 17,
     "metadata": {},
     "output_type": "execute_result"
    }
   ],
   "source": [
    "users_df.describe().drop(columns='id')"
   ]
  },
  {
   "cell_type": "markdown",
   "id": "77e25767",
   "metadata": {},
   "source": [
    "Moving on, we work with the \"tracks\". We look for the first 5 rows"
   ]
  },
  {
   "cell_type": "code",
   "execution_count": 18,
   "id": "d610b4ca",
   "metadata": {},
   "outputs": [
    {
     "data": {
      "text/html": [
       "<div>\n",
       "<style scoped>\n",
       "    .dataframe tbody tr th:only-of-type {\n",
       "        vertical-align: middle;\n",
       "    }\n",
       "\n",
       "    .dataframe tbody tr th {\n",
       "        vertical-align: top;\n",
       "    }\n",
       "\n",
       "    .dataframe thead th {\n",
       "        text-align: right;\n",
       "    }\n",
       "</style>\n",
       "<table border=\"1\" class=\"dataframe\">\n",
       "  <thead>\n",
       "    <tr style=\"text-align: right;\">\n",
       "      <th></th>\n",
       "      <th>id</th>\n",
       "      <th>title</th>\n",
       "      <th>author</th>\n",
       "      <th>plays</th>\n",
       "      <th>likes</th>\n",
       "      <th>reposts</th>\n",
       "      <th>release</th>\n",
       "    </tr>\n",
       "  </thead>\n",
       "  <tbody>\n",
       "    <tr>\n",
       "      <th>0</th>\n",
       "      <td>1</td>\n",
       "      <td>solitude</td>\n",
       "      <td>2</td>\n",
       "      <td>18,184,198</td>\n",
       "      <td>298,037</td>\n",
       "      <td>14,517</td>\n",
       "      <td>7 years ago\\n7 years ago</td>\n",
       "    </tr>\n",
       "    <tr>\n",
       "      <th>1</th>\n",
       "      <td>2</td>\n",
       "      <td>quand la pluie tombe (also uploaded for The Vi...</td>\n",
       "      <td>2</td>\n",
       "      <td>11,928,581</td>\n",
       "      <td>155,823</td>\n",
       "      <td>7,556</td>\n",
       "      <td>8 years ago\\n8 years ago</td>\n",
       "    </tr>\n",
       "    <tr>\n",
       "      <th>2</th>\n",
       "      <td>3</td>\n",
       "      <td>As she passes</td>\n",
       "      <td>4</td>\n",
       "      <td>15,385,582</td>\n",
       "      <td>228,383</td>\n",
       "      <td>7,815</td>\n",
       "      <td>7 years ago\\n7 years ago</td>\n",
       "    </tr>\n",
       "    <tr>\n",
       "      <th>3</th>\n",
       "      <td>4</td>\n",
       "      <td>Was am Ende</td>\n",
       "      <td>5</td>\n",
       "      <td>3,865,947</td>\n",
       "      <td>37,123</td>\n",
       "      <td>1,447</td>\n",
       "      <td>3 years ago\\n3 years ago</td>\n",
       "    </tr>\n",
       "    <tr>\n",
       "      <th>4</th>\n",
       "      <td>5</td>\n",
       "      <td>Making All Things New (Waterman/Espe) - Record...</td>\n",
       "      <td>7</td>\n",
       "      <td>5,974,821</td>\n",
       "      <td>123,856</td>\n",
       "      <td>3,261</td>\n",
       "      <td>8 years ago\\n8 years ago</td>\n",
       "    </tr>\n",
       "  </tbody>\n",
       "</table>\n",
       "</div>"
      ],
      "text/plain": [
       "   id                                              title  author       plays  \\\n",
       "0   1                                           solitude       2  18,184,198   \n",
       "1   2  quand la pluie tombe (also uploaded for The Vi...       2  11,928,581   \n",
       "2   3                                      As she passes       4  15,385,582   \n",
       "3   4                                        Was am Ende       5   3,865,947   \n",
       "4   5  Making All Things New (Waterman/Espe) - Record...       7   5,974,821   \n",
       "\n",
       "     likes reposts                   release  \n",
       "0  298,037  14,517  7 years ago\\n7 years ago  \n",
       "1  155,823   7,556  8 years ago\\n8 years ago  \n",
       "2  228,383   7,815  7 years ago\\n7 years ago  \n",
       "3   37,123   1,447  3 years ago\\n3 years ago  \n",
       "4  123,856   3,261  8 years ago\\n8 years ago  "
      ]
     },
     "execution_count": 18,
     "metadata": {},
     "output_type": "execute_result"
    }
   ],
   "source": [
    "tracks_df.head()"
   ]
  },
  {
   "cell_type": "markdown",
   "id": "0b60206e",
   "metadata": {},
   "source": [
    "The meaning of each column is:\n",
    "+ id: the id of the track (categorical)\n",
    "+ title: name of the track (categorical)\n",
    "+ author: person who makes the track (numeric)\n",
    "+ plays: total play count of a track\n",
    "+ likes: number of people like a track (numeric)\n",
    "+ reposts: number of reposting (numeric)\n",
    "+ release: total years/months/days since the track first released (categorical)\n",
    "\n",
    "We will change the columns' name to make it easier"
   ]
  },
  {
   "cell_type": "code",
   "execution_count": 19,
   "id": "49c35782",
   "metadata": {},
   "outputs": [],
   "source": [
    "tracks_df.rename(columns={\"author\": \"author_id\", \"plays\": \"total_plays\", \"release\": \"last_release\"}, inplace=True)"
   ]
  },
  {
   "cell_type": "markdown",
   "id": "90ba1c69",
   "metadata": {},
   "source": [
    "We check for duplicates in the above dataframe"
   ]
  },
  {
   "cell_type": "code",
   "execution_count": 20,
   "id": "ba1bfd49",
   "metadata": {},
   "outputs": [
    {
     "name": "stdout",
     "output_type": "stream",
     "text": [
      "There is no duplicated rows\n"
     ]
    }
   ],
   "source": [
    "check_track_dup = tracks_df.duplicated().any()\n",
    "if check_track_dup:\n",
    "    print(\"There are duplicated rows\")\n",
    "else:\n",
    "    print(\"There is no duplicated rows\")"
   ]
  },
  {
   "cell_type": "markdown",
   "id": "c6a582f7",
   "metadata": {},
   "source": [
    "Awesome! Now we look for the number of rows and columns"
   ]
  },
  {
   "cell_type": "code",
   "execution_count": 21,
   "id": "4e5b4630",
   "metadata": {},
   "outputs": [
    {
     "name": "stdout",
     "output_type": "stream",
     "text": [
      "Number of rows: 2074\n",
      "Number of columns: 7\n"
     ]
    }
   ],
   "source": [
    "print(\"Number of rows: \"+str(tracks_df.shape[0]))\n",
    "print(\"Number of columns: \"+str(tracks_df.shape[1]))"
   ]
  },
  {
   "cell_type": "markdown",
   "id": "c057b5e5",
   "metadata": {},
   "source": [
    "Okay, let's look for missing values, shall we?"
   ]
  },
  {
   "cell_type": "code",
   "execution_count": 22,
   "id": "010952b6",
   "metadata": {},
   "outputs": [
    {
     "data": {
      "text/plain": [
       "id             0.00000\n",
       "title          0.04822\n",
       "author_id      0.00000\n",
       "total_plays    0.00000\n",
       "likes          0.00000\n",
       "reposts        0.00000\n",
       "last_release   0.00000\n",
       "dtype: float64"
      ]
     },
     "execution_count": 22,
     "metadata": {},
     "output_type": "execute_result"
    }
   ],
   "source": [
    "col_tracks_key = list(tracks_df.keys())\n",
    "percent_missing = tracks_df[col_tracks_key].isnull().sum() * 100 / len(tracks_df)\n",
    "percent_missing"
   ]
  },
  {
   "cell_type": "markdown",
   "id": "82b76d45",
   "metadata": {},
   "source": [
    "Hmmm, there are some missing titles. Since the missing ratio is too insignificant, we can dop them."
   ]
  },
  {
   "cell_type": "code",
   "execution_count": 23,
   "id": "49bc63c2",
   "metadata": {},
   "outputs": [
    {
     "name": "stdout",
     "output_type": "stream",
     "text": [
      "Number of rows: 2073\n",
      "Number of columns: 7\n"
     ]
    }
   ],
   "source": [
    "tracks_df.dropna(inplace=True)\n",
    "print(\"Number of rows: \"+str(tracks_df.shape[0]))\n",
    "print(\"Number of columns: \"+str(tracks_df.shape[1]))"
   ]
  },
  {
   "cell_type": "markdown",
   "id": "a4a41d19",
   "metadata": {},
   "source": [
    "Now, the important part is to check for the data type and convert them accordingly to its supposingly correct one"
   ]
  },
  {
   "cell_type": "code",
   "execution_count": 24,
   "id": "ecf23444",
   "metadata": {},
   "outputs": [
    {
     "data": {
      "text/plain": [
       "id               int64\n",
       "title           object\n",
       "author_id        int64\n",
       "total_plays     object\n",
       "likes           object\n",
       "reposts         object\n",
       "last_release    object\n",
       "dtype: object"
      ]
     },
     "execution_count": 24,
     "metadata": {},
     "output_type": "execute_result"
    }
   ],
   "source": [
    "tracks_df.dtypes"
   ]
  },
  {
   "cell_type": "code",
   "execution_count": 25,
   "id": "3b62b5ad",
   "metadata": {},
   "outputs": [
    {
     "data": {
      "text/html": [
       "<div>\n",
       "<style scoped>\n",
       "    .dataframe tbody tr th:only-of-type {\n",
       "        vertical-align: middle;\n",
       "    }\n",
       "\n",
       "    .dataframe tbody tr th {\n",
       "        vertical-align: top;\n",
       "    }\n",
       "\n",
       "    .dataframe thead th {\n",
       "        text-align: right;\n",
       "    }\n",
       "</style>\n",
       "<table border=\"1\" class=\"dataframe\">\n",
       "  <thead>\n",
       "    <tr style=\"text-align: right;\">\n",
       "      <th></th>\n",
       "      <th>id</th>\n",
       "      <th>title</th>\n",
       "      <th>author_id</th>\n",
       "      <th>total_plays</th>\n",
       "      <th>likes</th>\n",
       "      <th>reposts</th>\n",
       "      <th>last_release</th>\n",
       "    </tr>\n",
       "  </thead>\n",
       "  <tbody>\n",
       "    <tr>\n",
       "      <th>0</th>\n",
       "      <td>1</td>\n",
       "      <td>solitude</td>\n",
       "      <td>2</td>\n",
       "      <td>18184198</td>\n",
       "      <td>298037</td>\n",
       "      <td>14517</td>\n",
       "      <td>7 years ago</td>\n",
       "    </tr>\n",
       "    <tr>\n",
       "      <th>1</th>\n",
       "      <td>2</td>\n",
       "      <td>quand la pluie tombe (also uploaded for The Vi...</td>\n",
       "      <td>2</td>\n",
       "      <td>11928581</td>\n",
       "      <td>155823</td>\n",
       "      <td>7556</td>\n",
       "      <td>8 years ago</td>\n",
       "    </tr>\n",
       "    <tr>\n",
       "      <th>2</th>\n",
       "      <td>3</td>\n",
       "      <td>As she passes</td>\n",
       "      <td>4</td>\n",
       "      <td>15385582</td>\n",
       "      <td>228383</td>\n",
       "      <td>7815</td>\n",
       "      <td>7 years ago</td>\n",
       "    </tr>\n",
       "    <tr>\n",
       "      <th>3</th>\n",
       "      <td>4</td>\n",
       "      <td>Was am Ende</td>\n",
       "      <td>5</td>\n",
       "      <td>3865947</td>\n",
       "      <td>37123</td>\n",
       "      <td>1447</td>\n",
       "      <td>3 years ago</td>\n",
       "    </tr>\n",
       "    <tr>\n",
       "      <th>4</th>\n",
       "      <td>5</td>\n",
       "      <td>Making All Things New (Waterman/Espe) - Record...</td>\n",
       "      <td>7</td>\n",
       "      <td>5974821</td>\n",
       "      <td>123856</td>\n",
       "      <td>3261</td>\n",
       "      <td>8 years ago</td>\n",
       "    </tr>\n",
       "  </tbody>\n",
       "</table>\n",
       "</div>"
      ],
      "text/plain": [
       "   id                                              title  author_id  \\\n",
       "0   1                                           solitude          2   \n",
       "1   2  quand la pluie tombe (also uploaded for The Vi...          2   \n",
       "2   3                                      As she passes          4   \n",
       "3   4                                        Was am Ende          5   \n",
       "4   5  Making All Things New (Waterman/Espe) - Record...          7   \n",
       "\n",
       "   total_plays   likes  reposts last_release  \n",
       "0     18184198  298037    14517  7 years ago  \n",
       "1     11928581  155823     7556  8 years ago  \n",
       "2     15385582  228383     7815  7 years ago  \n",
       "3      3865947   37123     1447  3 years ago  \n",
       "4      5974821  123856     3261  8 years ago  "
      ]
     },
     "execution_count": 25,
     "metadata": {},
     "output_type": "execute_result"
    }
   ],
   "source": [
    "total_play_to_change, total_play_change = change_number(tracks_df['total_plays'])\n",
    "tracks_df['total_plays'] = tracks_df['total_plays'].replace(total_play_to_change, total_play_change)\n",
    "tracks_df['total_plays'] = tracks_df['total_plays'].astype(int)\n",
    "likes_to_change, likes_change = change_number(tracks_df['likes'])\n",
    "tracks_df['likes'] = tracks_df['likes'].replace(likes_to_change, likes_change)\n",
    "tracks_df['likes'] = tracks_df['likes'].astype(int)\n",
    "reposts_to_change, reposts_change = change_number(tracks_df['reposts'])\n",
    "tracks_df['reposts'] = tracks_df['reposts'].replace(reposts_to_change, reposts_change)\n",
    "tracks_df['reposts'] = tracks_df['reposts'].astype(int)\n",
    "\n",
    "release_to_change = list(set(tracks_df['last_release']))\n",
    "release_change = [x.split(\"\\n\")[1] for x in release_to_change] \n",
    "tracks_df['last_release'] = tracks_df['last_release'].replace(release_to_change, release_change)\n",
    "tracks_df.head()"
   ]
  },
  {
   "cell_type": "markdown",
   "id": "b9b3d345",
   "metadata": {},
   "source": [
    "Let's have a look at how the data distribute"
   ]
  },
  {
   "cell_type": "code",
   "execution_count": 26,
   "id": "ba2bf15d",
   "metadata": {},
   "outputs": [
    {
     "data": {
      "text/html": [
       "<div>\n",
       "<style scoped>\n",
       "    .dataframe tbody tr th:only-of-type {\n",
       "        vertical-align: middle;\n",
       "    }\n",
       "\n",
       "    .dataframe tbody tr th {\n",
       "        vertical-align: top;\n",
       "    }\n",
       "\n",
       "    .dataframe thead th {\n",
       "        text-align: right;\n",
       "    }\n",
       "</style>\n",
       "<table border=\"1\" class=\"dataframe\">\n",
       "  <thead>\n",
       "    <tr style=\"text-align: right;\">\n",
       "      <th></th>\n",
       "      <th>total_plays</th>\n",
       "      <th>likes</th>\n",
       "      <th>reposts</th>\n",
       "    </tr>\n",
       "  </thead>\n",
       "  <tbody>\n",
       "    <tr>\n",
       "      <th>count</th>\n",
       "      <td>2073.00000</td>\n",
       "      <td>2073.00000</td>\n",
       "      <td>2073.00000</td>\n",
       "    </tr>\n",
       "    <tr>\n",
       "      <th>mean</th>\n",
       "      <td>10914330.15388</td>\n",
       "      <td>149387.32465</td>\n",
       "      <td>9689.08056</td>\n",
       "    </tr>\n",
       "    <tr>\n",
       "      <th>std</th>\n",
       "      <td>30547982.35685</td>\n",
       "      <td>359681.87191</td>\n",
       "      <td>38807.33667</td>\n",
       "    </tr>\n",
       "    <tr>\n",
       "      <th>min</th>\n",
       "      <td>0.00000</td>\n",
       "      <td>0.00000</td>\n",
       "      <td>0.00000</td>\n",
       "    </tr>\n",
       "    <tr>\n",
       "      <th>25%</th>\n",
       "      <td>128689.00000</td>\n",
       "      <td>1642.00000</td>\n",
       "      <td>87.00000</td>\n",
       "    </tr>\n",
       "    <tr>\n",
       "      <th>50%</th>\n",
       "      <td>1001579.00000</td>\n",
       "      <td>15059.00000</td>\n",
       "      <td>763.00000</td>\n",
       "    </tr>\n",
       "    <tr>\n",
       "      <th>75%</th>\n",
       "      <td>6712317.00000</td>\n",
       "      <td>106360.00000</td>\n",
       "      <td>5377.00000</td>\n",
       "    </tr>\n",
       "    <tr>\n",
       "      <th>max</th>\n",
       "      <td>326472925.00000</td>\n",
       "      <td>3164571.00000</td>\n",
       "      <td>1402199.00000</td>\n",
       "    </tr>\n",
       "  </tbody>\n",
       "</table>\n",
       "</div>"
      ],
      "text/plain": [
       "          total_plays         likes       reposts\n",
       "count      2073.00000    2073.00000    2073.00000\n",
       "mean   10914330.15388  149387.32465    9689.08056\n",
       "std    30547982.35685  359681.87191   38807.33667\n",
       "min           0.00000       0.00000       0.00000\n",
       "25%      128689.00000    1642.00000      87.00000\n",
       "50%     1001579.00000   15059.00000     763.00000\n",
       "75%     6712317.00000  106360.00000    5377.00000\n",
       "max   326472925.00000 3164571.00000 1402199.00000"
      ]
     },
     "execution_count": 26,
     "metadata": {},
     "output_type": "execute_result"
    }
   ],
   "source": [
    "tracks_df.describe().drop(columns=['id', 'author_id'])"
   ]
  },
  {
   "cell_type": "markdown",
   "id": "d14604ad",
   "metadata": {},
   "source": [
    "Finally, we will work with the \"playlists\""
   ]
  },
  {
   "cell_type": "code",
   "execution_count": 27,
   "id": "243cc493",
   "metadata": {},
   "outputs": [
    {
     "data": {
      "text/html": [
       "<div>\n",
       "<style scoped>\n",
       "    .dataframe tbody tr th:only-of-type {\n",
       "        vertical-align: middle;\n",
       "    }\n",
       "\n",
       "    .dataframe tbody tr th {\n",
       "        vertical-align: top;\n",
       "    }\n",
       "\n",
       "    .dataframe thead th {\n",
       "        text-align: right;\n",
       "    }\n",
       "</style>\n",
       "<table border=\"1\" class=\"dataframe\">\n",
       "  <thead>\n",
       "    <tr style=\"text-align: right;\">\n",
       "      <th></th>\n",
       "      <th>id</th>\n",
       "      <th>title</th>\n",
       "      <th>author</th>\n",
       "      <th>tracks</th>\n",
       "      <th>likes</th>\n",
       "      <th>reposts</th>\n",
       "      <th>release</th>\n",
       "    </tr>\n",
       "  </thead>\n",
       "  <tbody>\n",
       "    <tr>\n",
       "      <th>0</th>\n",
       "      <td>1</td>\n",
       "      <td>Acid Jazz</td>\n",
       "      <td>1</td>\n",
       "      <td>1,2</td>\n",
       "      <td>387K</td>\n",
       "      <td>35.8K</td>\n",
       "      <td>6 years ago</td>\n",
       "    </tr>\n",
       "    <tr>\n",
       "      <th>1</th>\n",
       "      <td>2</td>\n",
       "      <td>Ambient piano</td>\n",
       "      <td>3</td>\n",
       "      <td>3,4</td>\n",
       "      <td>149K</td>\n",
       "      <td>9,611</td>\n",
       "      <td>6 years ago</td>\n",
       "    </tr>\n",
       "    <tr>\n",
       "      <th>2</th>\n",
       "      <td>3</td>\n",
       "      <td>As Beautiful As It Sounds</td>\n",
       "      <td>6</td>\n",
       "      <td>5,6</td>\n",
       "      <td>80.1K</td>\n",
       "      <td>4,509</td>\n",
       "      <td>7 years ago</td>\n",
       "    </tr>\n",
       "    <tr>\n",
       "      <th>3</th>\n",
       "      <td>4</td>\n",
       "      <td>ahmed</td>\n",
       "      <td>9</td>\n",
       "      <td>7,8</td>\n",
       "      <td>2</td>\n",
       "      <td>0</td>\n",
       "      <td>2 years ago</td>\n",
       "    </tr>\n",
       "    <tr>\n",
       "      <th>4</th>\n",
       "      <td>5</td>\n",
       "      <td>Artists to Watch</td>\n",
       "      <td>12</td>\n",
       "      <td>9,10</td>\n",
       "      <td>34.2K</td>\n",
       "      <td>2,089</td>\n",
       "      <td>5 years ago</td>\n",
       "    </tr>\n",
       "  </tbody>\n",
       "</table>\n",
       "</div>"
      ],
      "text/plain": [
       "   id                      title  author tracks  likes reposts      release\n",
       "0   1                  Acid Jazz       1    1,2   387K   35.8K  6 years ago\n",
       "1   2              Ambient piano       3    3,4   149K   9,611  6 years ago\n",
       "2   3  As Beautiful As It Sounds       6    5,6  80.1K   4,509  7 years ago\n",
       "3   4                      ahmed       9    7,8      2       0  2 years ago\n",
       "4   5           Artists to Watch      12   9,10  34.2K   2,089  5 years ago"
      ]
     },
     "execution_count": 27,
     "metadata": {},
     "output_type": "execute_result"
    }
   ],
   "source": [
    "playlists_df.head()"
   ]
  },
  {
   "cell_type": "markdown",
   "id": "feb479c4",
   "metadata": {},
   "source": [
    "The meaning of each column is:\n",
    "+ id: the ID for the playlist\n",
    "+ title: name of the playlist\n",
    "+ author: the ID of the author who creates the playlist\n",
    "+ tracks: the ID of the first 2 tracks of the playlist\n",
    "+ likes: number of likes\n",
    "+ reposts: number of reposts\n",
    "+ release: the years/months/days released\n",
    "\n",
    "We should change the name of some of the columns for clarity"
   ]
  },
  {
   "cell_type": "code",
   "execution_count": 28,
   "id": "96821414",
   "metadata": {},
   "outputs": [],
   "source": [
    "playlists_df.rename(columns={\"author\": \"author_id\", \"tracks\": \"first_2_tracks_id\", \\\n",
    "                             \"release\": \"last_release\"}, inplace=True)"
   ]
  },
  {
   "cell_type": "markdown",
   "id": "afabf3b3",
   "metadata": {},
   "source": [
    "We check for duplicates in the above dataframe"
   ]
  },
  {
   "cell_type": "code",
   "execution_count": 29,
   "id": "f41a18bd",
   "metadata": {},
   "outputs": [
    {
     "name": "stdout",
     "output_type": "stream",
     "text": [
      "There is no duplicated rows\n"
     ]
    }
   ],
   "source": [
    "check_playlist_dup = playlists_df.duplicated().any()\n",
    "if check_playlist_dup:\n",
    "    print(\"There are duplicated rows\")\n",
    "else:\n",
    "    print(\"There is no duplicated rows\")"
   ]
  },
  {
   "cell_type": "markdown",
   "id": "39b94d8c",
   "metadata": {},
   "source": [
    "Awesome! Now we look for the number of rows and columns"
   ]
  },
  {
   "cell_type": "code",
   "execution_count": 30,
   "id": "11f8d873",
   "metadata": {},
   "outputs": [
    {
     "name": "stdout",
     "output_type": "stream",
     "text": [
      "Number of rows: 1045\n",
      "Number of columns: 7\n"
     ]
    }
   ],
   "source": [
    "print(\"Number of rows: \"+str(playlists_df.shape[0]))\n",
    "print(\"Number of columns: \"+str(playlists_df.shape[1]))"
   ]
  },
  {
   "cell_type": "markdown",
   "id": "073b9b81",
   "metadata": {},
   "source": [
    "Okay, let's look for missing values, shall we?"
   ]
  },
  {
   "cell_type": "code",
   "execution_count": 31,
   "id": "92d94a90",
   "metadata": {},
   "outputs": [
    {
     "data": {
      "text/plain": [
       "id                  0.00000\n",
       "title               0.00000\n",
       "author_id           0.00000\n",
       "first_2_tracks_id   0.00000\n",
       "likes               0.00000\n",
       "reposts             0.00000\n",
       "last_release        0.00000\n",
       "dtype: float64"
      ]
     },
     "execution_count": 31,
     "metadata": {},
     "output_type": "execute_result"
    }
   ],
   "source": [
    "col_playlists_key = list(playlists_df.keys())\n",
    "percent_missing = playlists_df[col_playlists_key].isnull().sum() * 100 / len(playlists_df)\n",
    "percent_missing"
   ]
  },
  {
   "cell_type": "markdown",
   "id": "da86f098",
   "metadata": {},
   "source": [
    "Awesome, we don't have to drop any rows. Now we move to check the data types and convert them if needed"
   ]
  },
  {
   "cell_type": "code",
   "execution_count": 32,
   "id": "51ee8031",
   "metadata": {},
   "outputs": [
    {
     "data": {
      "text/plain": [
       "id                    int64\n",
       "title                object\n",
       "author_id             int64\n",
       "first_2_tracks_id    object\n",
       "likes                object\n",
       "reposts              object\n",
       "last_release         object\n",
       "dtype: object"
      ]
     },
     "execution_count": 32,
     "metadata": {},
     "output_type": "execute_result"
    }
   ],
   "source": [
    "playlists_df.dtypes"
   ]
  },
  {
   "cell_type": "code",
   "execution_count": 33,
   "id": "3485e6fb",
   "metadata": {},
   "outputs": [
    {
     "data": {
      "text/html": [
       "<div>\n",
       "<style scoped>\n",
       "    .dataframe tbody tr th:only-of-type {\n",
       "        vertical-align: middle;\n",
       "    }\n",
       "\n",
       "    .dataframe tbody tr th {\n",
       "        vertical-align: top;\n",
       "    }\n",
       "\n",
       "    .dataframe thead th {\n",
       "        text-align: right;\n",
       "    }\n",
       "</style>\n",
       "<table border=\"1\" class=\"dataframe\">\n",
       "  <thead>\n",
       "    <tr style=\"text-align: right;\">\n",
       "      <th></th>\n",
       "      <th>id</th>\n",
       "      <th>title</th>\n",
       "      <th>author_id</th>\n",
       "      <th>first_2_tracks_id</th>\n",
       "      <th>likes</th>\n",
       "      <th>reposts</th>\n",
       "      <th>last_release</th>\n",
       "    </tr>\n",
       "  </thead>\n",
       "  <tbody>\n",
       "    <tr>\n",
       "      <th>0</th>\n",
       "      <td>1</td>\n",
       "      <td>Acid Jazz</td>\n",
       "      <td>1</td>\n",
       "      <td>1,2</td>\n",
       "      <td>387000</td>\n",
       "      <td>35800</td>\n",
       "      <td>6 years ago</td>\n",
       "    </tr>\n",
       "    <tr>\n",
       "      <th>1</th>\n",
       "      <td>2</td>\n",
       "      <td>Ambient piano</td>\n",
       "      <td>3</td>\n",
       "      <td>3,4</td>\n",
       "      <td>149000</td>\n",
       "      <td>9611</td>\n",
       "      <td>6 years ago</td>\n",
       "    </tr>\n",
       "    <tr>\n",
       "      <th>2</th>\n",
       "      <td>3</td>\n",
       "      <td>As Beautiful As It Sounds</td>\n",
       "      <td>6</td>\n",
       "      <td>5,6</td>\n",
       "      <td>80100</td>\n",
       "      <td>4509</td>\n",
       "      <td>7 years ago</td>\n",
       "    </tr>\n",
       "    <tr>\n",
       "      <th>3</th>\n",
       "      <td>4</td>\n",
       "      <td>ahmed</td>\n",
       "      <td>9</td>\n",
       "      <td>7,8</td>\n",
       "      <td>2</td>\n",
       "      <td>0</td>\n",
       "      <td>2 years ago</td>\n",
       "    </tr>\n",
       "    <tr>\n",
       "      <th>4</th>\n",
       "      <td>5</td>\n",
       "      <td>Artists to Watch</td>\n",
       "      <td>12</td>\n",
       "      <td>9,10</td>\n",
       "      <td>34200</td>\n",
       "      <td>2089</td>\n",
       "      <td>5 years ago</td>\n",
       "    </tr>\n",
       "  </tbody>\n",
       "</table>\n",
       "</div>"
      ],
      "text/plain": [
       "   id                      title  author_id first_2_tracks_id   likes  \\\n",
       "0   1                  Acid Jazz          1               1,2  387000   \n",
       "1   2              Ambient piano          3               3,4  149000   \n",
       "2   3  As Beautiful As It Sounds          6               5,6   80100   \n",
       "3   4                      ahmed          9               7,8       2   \n",
       "4   5           Artists to Watch         12              9,10   34200   \n",
       "\n",
       "   reposts last_release  \n",
       "0    35800  6 years ago  \n",
       "1     9611  6 years ago  \n",
       "2     4509  7 years ago  \n",
       "3        0  2 years ago  \n",
       "4     2089  5 years ago  "
      ]
     },
     "execution_count": 33,
     "metadata": {},
     "output_type": "execute_result"
    }
   ],
   "source": [
    "like_to_change, like_change = change_number(playlists_df['likes'])\n",
    "repost_to_change, repost_change = change_number(playlists_df['reposts'])\n",
    "\n",
    "playlists_df['likes'] = playlists_df['likes'].replace(like_to_change, like_change)\n",
    "playlists_df['likes'] = playlists_df['likes'].astype(int)\n",
    "playlists_df['reposts'] = playlists_df['reposts'].replace(repost_to_change, repost_change)\n",
    "playlists_df['reposts'] = playlists_df['reposts'].astype(int)\n",
    "playlists_df.head()"
   ]
  },
  {
   "cell_type": "markdown",
   "id": "2827ccdc",
   "metadata": {},
   "source": [
    "Let's have a look at how the data distribute"
   ]
  },
  {
   "cell_type": "code",
   "execution_count": 34,
   "id": "940c3bfc",
   "metadata": {},
   "outputs": [
    {
     "data": {
      "text/html": [
       "<div>\n",
       "<style scoped>\n",
       "    .dataframe tbody tr th:only-of-type {\n",
       "        vertical-align: middle;\n",
       "    }\n",
       "\n",
       "    .dataframe tbody tr th {\n",
       "        vertical-align: top;\n",
       "    }\n",
       "\n",
       "    .dataframe thead th {\n",
       "        text-align: right;\n",
       "    }\n",
       "</style>\n",
       "<table border=\"1\" class=\"dataframe\">\n",
       "  <thead>\n",
       "    <tr style=\"text-align: right;\">\n",
       "      <th></th>\n",
       "      <th>likes</th>\n",
       "      <th>reposts</th>\n",
       "    </tr>\n",
       "  </thead>\n",
       "  <tbody>\n",
       "    <tr>\n",
       "      <th>count</th>\n",
       "      <td>1045.00000</td>\n",
       "      <td>1045.00000</td>\n",
       "    </tr>\n",
       "    <tr>\n",
       "      <th>mean</th>\n",
       "      <td>12334.79904</td>\n",
       "      <td>928.71388</td>\n",
       "    </tr>\n",
       "    <tr>\n",
       "      <th>std</th>\n",
       "      <td>37172.86578</td>\n",
       "      <td>2830.86907</td>\n",
       "    </tr>\n",
       "    <tr>\n",
       "      <th>min</th>\n",
       "      <td>0.00000</td>\n",
       "      <td>0.00000</td>\n",
       "    </tr>\n",
       "    <tr>\n",
       "      <th>25%</th>\n",
       "      <td>3.00000</td>\n",
       "      <td>0.00000</td>\n",
       "    </tr>\n",
       "    <tr>\n",
       "      <th>50%</th>\n",
       "      <td>47.00000</td>\n",
       "      <td>4.00000</td>\n",
       "    </tr>\n",
       "    <tr>\n",
       "      <th>75%</th>\n",
       "      <td>6926.00000</td>\n",
       "      <td>557.00000</td>\n",
       "    </tr>\n",
       "    <tr>\n",
       "      <th>max</th>\n",
       "      <td>515000.00000</td>\n",
       "      <td>43200.00000</td>\n",
       "    </tr>\n",
       "  </tbody>\n",
       "</table>\n",
       "</div>"
      ],
      "text/plain": [
       "             likes     reposts\n",
       "count   1045.00000  1045.00000\n",
       "mean   12334.79904   928.71388\n",
       "std    37172.86578  2830.86907\n",
       "min        0.00000     0.00000\n",
       "25%        3.00000     0.00000\n",
       "50%       47.00000     4.00000\n",
       "75%     6926.00000   557.00000\n",
       "max   515000.00000 43200.00000"
      ]
     },
     "execution_count": 34,
     "metadata": {},
     "output_type": "execute_result"
    }
   ],
   "source": [
    "playlists_df.describe().drop(columns=['id', 'author_id'])"
   ]
  }
 ],
 "metadata": {
  "kernelspec": {
   "display_name": "Python 3 (ipykernel)",
   "language": "python",
   "name": "python3"
  },
  "language_info": {
   "codemirror_mode": {
    "name": "ipython",
    "version": 3
   },
   "file_extension": ".py",
   "mimetype": "text/x-python",
   "name": "python",
   "nbconvert_exporter": "python",
   "pygments_lexer": "ipython3",
   "version": "3.8.8"
  }
 },
 "nbformat": 4,
 "nbformat_minor": 5
}
